{
 "cells": [
  {
   "cell_type": "markdown",
   "metadata": {},
   "source": [
    "### Prompt編集"
   ]
  },
  {
   "cell_type": "code",
   "execution_count": null,
   "metadata": {
    "vscode": {
     "languageId": "plaintext"
    }
   },
   "outputs": [],
   "source": [
    "# white boy kitten character: a pure white fluffy little kitten, grey ripped t-shirt,  black smooth eyes, full body, pointing the camera with both hand, small head, crying,\n",
    "# white girl kitten character: a pure white cute little kitten in a pink dress, \n",
    "# bully cat charactor: a black cat, yellow eyes, wearing a grey t-shirt and black jacket and ripped jeans, riding on single head light motorcycle\n",
    "# orange kitten: The orange kitten is on the right, wearing a red outfit and holding an ice cream cone with blue and white swirls, laughing joyfully. \n",
    "# black kitten: The black kitten is on the left, wearing a blue shirt with a heart necklace. \n",
    "\n",
    "intro_prompt = \"realistic, 4k, high resolution, real photo, \"\n",
    "\n",
    "additional_prompts = \", tall image size\""
   ]
  },
  {
   "cell_type": "code",
   "execution_count": null,
   "metadata": {
    "vscode": {
     "languageId": "plaintext"
    }
   },
   "outputs": [],
   "source": [
    "def add_additional_prompts(prompt, additional_prompts):\n",
    "    return f\"{prompt} {additional_prompts}\"\n",
    "\n",
    "def prepend_intro_prompt(prompt, intro_prompt):\n",
    "    return f\"{intro_prompt} {prompt}\"\n",
    "\n",
    "final_prompt = add_additional_prompts(\"\", additional_prompts)\n",
    "final_prompt = prepend_intro_prompt(final_prompt, intro_prompt)\n",
    "\n",
    "\n",
    "import ipywidgets as widgets\n",
    "from IPython.display import display\n",
    "\n",
    "# 初期のString型の変数\n",
    "# initial_text = \"ここに編集可能なテキストを入力してください。\"\n",
    "initial_text = final_prompt\n",
    "\n",
    "# テキストエリアウィジェットを作成\n",
    "text_area = widgets.Textarea(\n",
    "    value=initial_text,\n",
    "    placeholder='Type something',\n",
    "    description='Edited Prompt:',\n",
    "    disabled=False,\n",
    "    layout=widgets.Layout(width='1000px', height='200px')\n",
    ")\n",
    "\n",
    "# テキストエリアを表示\n",
    "display(text_area)\n",
    "\n",
    "# テキストエリアの内容を取得する関数\n",
    "def get_text_area_content():\n",
    "    return text_area.value"
   ]
  }
 ],
 "metadata": {
  "language_info": {
   "name": "python"
  }
 },
 "nbformat": 4,
 "nbformat_minor": 2
}
